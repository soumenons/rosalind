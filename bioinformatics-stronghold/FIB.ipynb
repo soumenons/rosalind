{
 "cells": [
  {
   "cell_type": "code",
   "execution_count": 15,
   "metadata": {},
   "outputs": [],
   "source": [
    "def fib(months, litters):\n",
    "    fprev = 1\n",
    "    f2prev = 1\n",
    "    if months == 1:\n",
    "        return f2prev\n",
    "    elif months == 2:\n",
    "        return fprev\n",
    "    for i in range(3,months+1):\n",
    "        lit_new = litters * f2prev\n",
    "        fnew = fprev + lit_new\n",
    "        f2prev = fprev\n",
    "        fprev = fnew\n",
    "        i += 1\n",
    "    return fnew\n",
    "\n"
   ]
  },
  {
   "cell_type": "code",
   "execution_count": 14,
   "metadata": {},
   "outputs": [
    {
     "data": {
      "text/plain": [
       "1431655765"
      ]
     },
     "execution_count": 14,
     "metadata": {},
     "output_type": "execute_result"
    }
   ],
   "source": [
    "fib(32,2)"
   ]
  }
 ],
 "metadata": {
  "kernelspec": {
   "display_name": "Python 3",
   "language": "python",
   "name": "python3"
  },
  "language_info": {
   "codemirror_mode": {
    "name": "ipython",
    "version": 3
   },
   "file_extension": ".py",
   "mimetype": "text/x-python",
   "name": "python",
   "nbconvert_exporter": "python",
   "pygments_lexer": "ipython3",
   "version": "3.11.7"
  }
 },
 "nbformat": 4,
 "nbformat_minor": 2
}
